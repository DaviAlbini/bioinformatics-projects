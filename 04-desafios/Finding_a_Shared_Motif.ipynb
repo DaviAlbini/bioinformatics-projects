{
  "nbformat": 4,
  "nbformat_minor": 0,
  "metadata": {
    "colab": {
      "provenance": [],
      "authorship_tag": "ABX9TyPoQ8IkYqnX4vBfE1OK66Wl",
      "include_colab_link": true
    },
    "kernelspec": {
      "name": "python3",
      "display_name": "Python 3"
    },
    "language_info": {
      "name": "python"
    }
  },
  "cells": [
    {
      "cell_type": "markdown",
      "metadata": {
        "id": "view-in-github",
        "colab_type": "text"
      },
      "source": [
        "<a href=\"https://colab.research.google.com/github/DaviAlbini/bioinformatics-projects/blob/main/04-desafios/Finding_a_Shared_Motif.ipynb\" target=\"_parent\"><img src=\"https://colab.research.google.com/assets/colab-badge.svg\" alt=\"Open In Colab\"/></a>"
      ]
    },
    {
      "cell_type": "code",
      "execution_count": 27,
      "metadata": {
        "colab": {
          "base_uri": "https://localhost:8080/"
        },
        "id": "Mup_0B_xiDOs",
        "outputId": "b6ab617a-b63f-4ad1-f873-7af51422911d"
      },
      "outputs": [
        {
          "output_type": "stream",
          "name": "stdout",
          "text": [
            "AGCACAGTTGCGTGTATGATCGTAGTAAGAAAATATCGCGGCTGATGACTCTATCCAACAAGCTGATAATTGGCACTTAATTTCGGAGACATTGTGTAGCTATATGGTGGATTGAATAGTTACACGCTTAGCGGTGTACCGACCAACG\n"
          ]
        }
      ],
      "source": [
        "def read_fasta(filename):\n",
        "    sequences = {}\n",
        "    current_id = None\n",
        "    with open(filename, 'r') as f:\n",
        "        for line in f:\n",
        "            line = line.strip()\n",
        "            if line.startswith('>'):\n",
        "                current_id = line[1:]\n",
        "                sequences[current_id] = \"\"\n",
        "            elif current_id:\n",
        "                sequences[current_id] += line\n",
        "    return sequences\n",
        "\n",
        "data = read_fasta('/content/rosalind_lcsm.txt')\n",
        "\n",
        "def longest_common_substring(sequences):\n",
        "\n",
        "    longest_substring = \"\"\n",
        "    if not sequences:\n",
        "        return longest_substring\n",
        "\n",
        "    shortest_sequence = min(sequences.values(), key=len)\n",
        "\n",
        "    for i in range(len(shortest_sequence)):\n",
        "        for j in range(i, len(shortest_sequence)):\n",
        "            substring = shortest_sequence[i : j + 1]\n",
        "            is_common = True\n",
        "            for sequence in sequences.values():\n",
        "                if substring not in sequence:\n",
        "                    is_common = False\n",
        "                    break\n",
        "            if is_common and len(substring) > len(longest_substring):\n",
        "                longest_substring = substring\n",
        "\n",
        "    return longest_substring\n",
        "\n",
        "result = longest_common_substring(data)\n",
        "print(result)"
      ]
    }
  ]
}